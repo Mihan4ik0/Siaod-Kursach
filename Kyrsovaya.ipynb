{
 "cells": [
  {
   "attachments": {},
   "cell_type": "markdown",
   "metadata": {},
   "source": [
    "# Курсовая работа по дисциплине СиАОД №1"
   ]
  },
  {
   "attachments": {},
   "cell_type": "markdown",
   "metadata": {},
   "source": [
    "## Выполнил студент группы БВТ2101 Козей Михаил Александрович\n",
    "***"
   ]
  },
  {
   "attachments": {},
   "cell_type": "markdown",
   "metadata": {},
   "source": [
    "# Задание"
   ]
  },
  {
   "attachments": {},
   "cell_type": "markdown",
   "metadata": {},
   "source": [
    "Написать программу, которая будет считывать данные из CSV файла, содержащего\n",
    "информацию о продажах товаров в магазине. Данные в файле содержатся в следующем\n",
    "формате:\n",
    "<br>| Номер заказа | Дата заказа | Название товара | Категория товара | Количество продаж | Цена\n",
    "за единицу | Общая стоимость |\n",
    "<br>Необходимо:\n",
    "1. Рассчитать общую выручку магазина.\n",
    "2. Найти товар, который был продан наибольшее количество раз.\n",
    "3. Найти товар, который принес наибольшую выручку.\n",
    "4. Составить отчет, содержащий информацию об общей выручке магазина, количестве\n",
    "проданных единиц каждого товар и доле каждого товара в общей выручке.\n",
    "Для решения задач необходимо использовать структуры данных, такие как массивы и\n",
    "хеш-таблицы, а также различные алгоритмы обработки данных, например, сортировку и поиск.\n",
    "Также необходимо учитывать возможные ошибки ввода-вывода и обрабатывать их в\n",
    "соответствии с требованиями."
   ]
  },
  {
   "attachments": {},
   "cell_type": "markdown",
   "metadata": {},
   "source": [
    "***\n",
    "# Записки сумасшедшего"
   ]
  },
  {
   "attachments": {},
   "cell_type": "markdown",
   "metadata": {},
   "source": [
    "# Шаги для  решения задачки:\n",
    "<ol>\n",
    "    <li>Импортировать библиотеку для работы с CSV файлами.</li>\n",
    "    <li>Открыть CSV файл и считать данные в массив или хеш-таблицу.</li>\n",
    "    <li>Создать переменную для хранения общей выручки магазина и проинициализировать ее нулем.</li>\n",
    "    <li>Создать хеш-таблицу, где ключ будет названием товара, а значение - количеством продаж и общей выручкой для этого товара.</li>\n",
    "    <li>Проитерироваться по каждой строке CSV файла и обновить значения хеш-таблицы в соответствии с данными из текущей строки.</li>\n",
    "    <li>Вычислить общую выручку магазина, просуммировав общую стоимость из каждой строки CSV файла.</li>\n",
    "    <li>Найти товар, который был продан наибольшее количество раз, пройдя по значениям хеш-таблицы и выбрав тот, у которого количество продаж максимально.</li>\n",
    "    <li>Найти товар, который принес наибольшую выручку, пройдя по значениям хеш-таблицы и выбрав тот, у которого общая выручка максимальна.</li>\n",
    "    <li>Создать отчет, содержащий информацию об общей выручке магазина, количестве проданных единиц каждого товара и доле каждого товара в общей выручке.</li>\n",
    "    <li>Закрыть файл и обработать возможные ошибки ввода-вывода в соответствии с требованиями.</li>\n",
    "</ol>"
   ]
  },
  {
   "attachments": {},
   "cell_type": "markdown",
   "metadata": {},
   "source": [
    "***"
   ]
  },
  {
   "attachments": {},
   "cell_type": "markdown",
   "metadata": {},
   "source": [
    "# Выполнение"
   ]
  },
  {
   "cell_type": "code",
   "execution_count": 1,
   "metadata": {},
   "outputs": [],
   "source": [
    "# Импорты\n",
    "import csv\n",
    "from collections import defaultdict\n",
    "import pandas as pd"
   ]
  },
  {
   "attachments": {},
   "cell_type": "markdown",
   "metadata": {},
   "source": [
    "### Шаг 1\n",
    "Читаем с файла"
   ]
  },
  {
   "cell_type": "code",
   "execution_count": 2,
   "metadata": {},
   "outputs": [],
   "source": [
    "tablitsa = []\n",
    "with open('table.csv', encoding='UTF-8') as f:\n",
    "    reader = csv.reader(f)\n",
    "    for row in reader:\n",
    "        tablitsa.append(row)"
   ]
  },
  {
   "attachments": {},
   "cell_type": "markdown",
   "metadata": {},
   "source": [
    "### Шаг 2\n",
    "Составляем хэш-таблицу, где ключ — наименование товара, а значение — количество проданных единиц товара и общая выручка"
   ]
  },
  {
   "cell_type": "code",
   "execution_count": 3,
   "metadata": {},
   "outputs": [],
   "source": [
    "sales_by_product = {} # хеш-таблица (ключ — товар; значение — количество продаж и общая выручка товара)\n",
    "# Проходим циклом по всем строкам массива, начиная со второй строки\n",
    "for row in tablitsa[1:]:\n",
    "    # Разбиваем строку на отдельные элементы\n",
    "    order_number, order_date, product_name, category, quantity, price, total_price = row[0].split(';')\n",
    "\n",
    "    # Извлекаем из строки необходимые данные\n",
    "    product_name = product_name.strip()\n",
    "    quantity = int(quantity)\n",
    "    price = int(price)\n",
    "\n",
    "    # Если товар уже есть в словаре продаж по товару, увеличиваем количество продаж и общую выручку\n",
    "    if product_name in sales_by_product:\n",
    "        sales_by_product[product_name][0] += quantity\n",
    "        sales_by_product[product_name][1] += quantity * price\n",
    "    # Если товара нет в словаре продаж по товару, создаем новую запись\n",
    "    else:\n",
    "        sales_by_product[product_name] = [quantity, quantity * price]\n"
   ]
  },
  {
   "attachments": {},
   "cell_type": "markdown",
   "metadata": {},
   "source": [
    "### Шаг 3\n",
    "Проходим по всей таблице в поисках наибольших значений по количеству продаж, а также общей выручке. Параллельно расчитываем всю выручку магазина"
   ]
  },
  {
   "cell_type": "code",
   "execution_count": 4,
   "metadata": {},
   "outputs": [],
   "source": [
    "# Total_revenue = 0 # общая выручка\n",
    "# max_sales = 0\n",
    "# max_revenue = 0\n",
    "# for product, sales_data in sales_by_product.items():\n",
    "#     quantity_sold, total_revenue = sales_data\n",
    "#     Total_revenue  += total_revenue\n",
    "#     if quantity_sold > max_sales:\n",
    "#         best_product_sold = product\n",
    "#         max_sales = quantity_sold\n",
    "#     if total_revenue > max_revenue:\n",
    "#         best_product_revenue = product\n",
    "#         max_revenue = total_revenue"
   ]
  },
  {
   "cell_type": "code",
   "execution_count": 8,
   "metadata": {},
   "outputs": [],
   "source": [
    "def binary_search(sales_by_product, low, high, key):\n",
    "    while low <= high:\n",
    "        mid = (low + high) // 2\n",
    "        if key in sales_by_product[mid]:\n",
    "            return mid\n",
    "        elif key < sales_by_product[mid]:\n",
    "            high = mid - 1\n",
    "        else:\n",
    "            low = mid + 1\n",
    "    return -1\n",
    "\n",
    "# сортируем данные о продажах по выручке\n",
    "sorted_sales = sorted(sales_by_product.items(), key=lambda x: x[1][1], reverse=True)\n",
    "\n",
    "# находим продукт с максимальной выручкой\n",
    "best_product_revenue = sorted_sales[0][0]\n",
    "max_revenue = sorted_sales[0][1][1]\n",
    "\n",
    "# находим продукт с максимальным количеством продаж\n",
    "best_product_sold = sorted(sales_by_product.items(), key=lambda x: x[1][0], reverse=True)[0][0]\n",
    "max_sales = sales_by_product[best_product_sold][0]\n",
    "\n",
    "# находим общую выручку\n",
    "Total_revenue = sum([sales_data[1] for sales_data in sales_by_product.values()])"
   ]
  },
  {
   "attachments": {},
   "cell_type": "markdown",
   "metadata": {},
   "source": [
    "### Шаг 4\n",
    "Подготавливаем данные для вывода отчётности через Pandos"
   ]
  },
  {
   "cell_type": "code",
   "execution_count": 6,
   "metadata": {},
   "outputs": [],
   "source": [
    "products = []\n",
    "solds =[]\n",
    "revenues = []\n",
    "dolya = []\n",
    "\n",
    "for product, sales_data in sales_by_product.items():\n",
    "    quantity_sold, total_revenue = sales_data\n",
    "    products.append(product)\n",
    "    solds.append(quantity_sold)\n",
    "    revenues.append(total_revenue)\n",
    "    dolya.append(total_revenue/Total_revenue*100)\n",
    "\n",
    "\n",
    "\n",
    "\n",
    "\n",
    "# Создаем DataFrame из списков\n",
    "df = pd.DataFrame({\n",
    "    'Товар': products,\n",
    "    'Количество проданных единиц': solds,\n",
    "    'Выручка': revenues,\n",
    "    'Доля в общей выручке %':  dolya\n",
    "})\n",
    "\n",
    "# Устанавливаем 'Товар' как индекс для удобства чтения таблицы\n",
    "df = df.set_index('Товар')\n",
    "pd.set_option('display.width', 1000)"
   ]
  },
  {
   "attachments": {},
   "cell_type": "markdown",
   "metadata": {},
   "source": [
    "#### Вывод"
   ]
  },
  {
   "cell_type": "code",
   "execution_count": 7,
   "metadata": {},
   "outputs": [
    {
     "name": "stdout",
     "output_type": "stream",
     "text": [
      "                               Количество проданных единиц   Выручка  Доля в общей выручке %\n",
      "Товар                                                                                       \n",
      "Apple iPhone 14                                        500  44995000               18.595319\n",
      "Samsung Galaxy S22 Ultra                               300  29997000               12.397017\n",
      "Игровые приставки                                      200  11998000                4.958476\n",
      "LG OLED TV                                             150  26998500               11.157811\n",
      "Apple MacBook Pro 16                                   100  19999000                8.265091\n",
      "Canon EOS R7                                            50  12499500                5.165734\n",
      "Bose QuietComfort 55                                   100   3499000                1.446050\n",
      "Samsung Galaxy Tab S8                                   75   5249250                2.169385\n",
      "DJI Mavic 3                                             25   3749750                1.549679\n",
      "Philips Hue Smart Bulbs                                500   1495000                0.617846\n",
      "Apple iPad Pro 12.9                                    200  17998000                7.438128\n",
      "Sony PlayStation 5 Pro                                 100   5999000                2.479238\n",
      "Samsung Galaxy Watch 5                                 150   4498500                1.859119\n",
      "LG UltraFine                                            50   4999500                2.066169\n",
      "Canon EOS R8                                            75  22499250                9.298383\n",
      "Bose SoundLink Revolve+                                100   2499000                1.032775\n",
      "DJI Ronin 4D                                            25  12499750                5.165837\n",
      "Samsung Galaxy Book Pro                                 50   6499500                2.686082\n",
      "Philips Sonicare DiamondClean                          200   1998000                0.825724\n",
      "Nest Learning Thermostat                               100   1999000                0.826137\n",
      "\n",
      "\n",
      "Общая выручка: 241969500\n",
      "Лучший товар: Apple iPhone 14 (с количеством продаж 500)\n",
      "Лучший товар: Apple iPhone 14 (с общей выручкой 44995000)\n"
     ]
    }
   ],
   "source": [
    "print(df)\n",
    "print(\"\\n\")\n",
    "print(f\"Общая выручка:\", Total_revenue)\n",
    "print(f\"Лучший товар: {best_product_sold} (с количеством продаж {max_sales})\")\n",
    "print(f\"Лучший товар: {best_product_revenue} (с общей выручкой {max_revenue})\")"
   ]
  }
 ],
 "metadata": {
  "kernelspec": {
   "display_name": "Python 3",
   "language": "python",
   "name": "python3"
  },
  "language_info": {
   "codemirror_mode": {
    "name": "ipython",
    "version": 3
   },
   "file_extension": ".py",
   "mimetype": "text/x-python",
   "name": "python",
   "nbconvert_exporter": "python",
   "pygments_lexer": "ipython3",
   "version": "3.10.6"
  },
  "orig_nbformat": 4
 },
 "nbformat": 4,
 "nbformat_minor": 2
}
