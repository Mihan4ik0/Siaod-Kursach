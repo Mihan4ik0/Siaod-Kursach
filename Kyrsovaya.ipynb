{
 "cells": [
  {
   "attachments": {},
   "cell_type": "markdown",
   "metadata": {},
   "source": [
    "# Курсовая работа по дисциплине СиАОД №1"
   ]
  },
  {
   "attachments": {},
   "cell_type": "markdown",
   "metadata": {},
   "source": [
    "## Выполнил студент группы БВТ2101 Козей Михаил Александрович\n",
    "***"
   ]
  },
  {
   "attachments": {},
   "cell_type": "markdown",
   "metadata": {},
   "source": [
    "# Задание"
   ]
  },
  {
   "attachments": {},
   "cell_type": "markdown",
   "metadata": {},
   "source": [
    "Написать программу, которая будет считывать данные из CSV файла, содержащего\n",
    "информацию о продажах товаров в магазине. Данные в файле содержатся в следующем\n",
    "формате:\n",
    "<br>| Номер заказа | Дата заказа | Название товара | Категория товара | Количество продаж | Цена\n",
    "за единицу | Общая стоимость |\n",
    "<br>Необходимо:\n",
    "1. Рассчитать общую выручку магазина.\n",
    "2. Найти товар, который был продан наибольшее количество раз.\n",
    "3. Найти товар, который принес наибольшую выручку.\n",
    "4. Составить отчет, содержащий информацию об общей выручке магазина, количестве\n",
    "проданных единиц каждого товар и доле каждого товара в общей выручке.\n",
    "Для решения задач необходимо использовать структуры данных, такие как массивы и\n",
    "хеш-таблицы, а также различные алгоритмы обработки данных, например, сортировку и поиск.\n",
    "Также необходимо учитывать возможные ошибки ввода-вывода и обрабатывать их в\n",
    "соответствии с требованиями."
   ]
  },
  {
   "attachments": {},
   "cell_type": "markdown",
   "metadata": {},
   "source": [
    "***\n",
    "# Записки сумасшедшего"
   ]
  },
  {
   "attachments": {},
   "cell_type": "markdown",
   "metadata": {},
   "source": [
    "# Шаги для  решения задачки:\n",
    "<ol>\n",
    "    <li>Импортировать библиотеку для работы с CSV файлами.</li>\n",
    "    <li>Открыть CSV файл и считать данные в массив или хеш-таблицу.</li>\n",
    "    <li>Создать переменную для хранения общей выручки магазина и проинициализировать ее нулем.</li>\n",
    "    <li>Создать хеш-таблицу, где ключ будет названием товара, а значение - количеством продаж и общей выручкой для этого товара.</li>\n",
    "    <li>Проитерироваться по каждой строке CSV файла и обновить значения хеш-таблицы в соответствии с данными из текущей строки.</li>\n",
    "    <li>Вычислить общую выручку магазина, просуммировав общую стоимость из каждой строки CSV файла.</li>\n",
    "    <li>Найти товар, который был продан наибольшее количество раз, пройдя по значениям хеш-таблицы и выбрав тот, у которого количество продаж максимально.</li>\n",
    "    <li>Найти товар, который принес наибольшую выручку, пройдя по значениям хеш-таблицы и выбрав тот, у которого общая выручка максимальна.</li>\n",
    "    <li>Создать отчет, содержащий информацию об общей выручке магазина, количестве проданных единиц каждого товара и доле каждого товара в общей выручке.</li>\n",
    "    <li>Закрыть файл и обработать возможные ошибки ввода-вывода в соответствии с требованиями.</li>\n",
    "</ol>"
   ]
  },
  {
   "attachments": {},
   "cell_type": "markdown",
   "metadata": {},
   "source": [
    "***"
   ]
  },
  {
   "attachments": {},
   "cell_type": "markdown",
   "metadata": {},
   "source": [
    "# Выполнение"
   ]
  },
  {
   "cell_type": "code",
   "execution_count": 1,
   "metadata": {},
   "outputs": [],
   "source": [
    "# Импорты\n",
    "import csv\n",
    "from collections import defaultdict\n",
    "import pandas as pd"
   ]
  },
  {
   "cell_type": "code",
   "execution_count": null,
   "metadata": {},
   "outputs": [],
   "source": [
    "# Переменные\n",
    "tablitsa = [] # из CSV в массив \n",
    "Total_revenue = 0 # общая выручка\n",
    "sales_by_product = {} # хеш-таблица (ключ — товар; значение — количество продаж и общая выручка товара)\n",
    "max_sales = 0   # переменнв для поиска постредством сравнение\n",
    "max_revenue = 0\n",
    "products = []\n",
    "solds =[]\n",
    "revenues = []\n",
    "dolya = []"
   ]
  },
  {
   "cell_type": "code",
   "execution_count": 2,
   "metadata": {},
   "outputs": [
    {
     "name": "stdout",
     "output_type": "stream",
     "text": [
      "['Номер заказа;Дата заказа;Название товара;Категория товара;Количество продаж;Цена за единицу;Общая стоимость']\n",
      "['4001;01.02.2022;Apple iPhone 14;Смартфоны;500;89990;44995000']\n",
      "['4002;02.04.2022;Samsung Galaxy S22 Ultra;Смартфоны;300;99990;29997000']\n",
      "['4003;03.01.2022;Игровые приставки;Игровые приставки;200;59990;11998000']\n",
      "['4004;04.02.2022;LG OLED TV;Телевизоры;150;179990;26998500']\n",
      "['4005;05.05.2022;Apple MacBook Pro 16;Ноутбуки;100;199990;19999000']\n",
      "['4006;06.03.2022;Canon EOS R7;Фотоаппараты;50;249990;12499500']\n",
      "['4007;07.06.2022;Bose QuietComfort 55;Наушники;100;34990;3499000']\n",
      "['4008;08.05.2022;Samsung Galaxy Tab S8;Планшеты;75;69990;5249250']\n",
      "['4009;09.04.2022;DJI Mavic 3;Дроны;25;149990;3749750']\n",
      "['4010;10.02.2022;Philips Hue Smart Bulbs;Умный дом;500;2990;1495000']\n",
      "['5001;01.01.2022;Apple iPad Pro 12.9;Планшеты;200;89990;17998000']\n",
      "['5002;02.02.2022;Sony PlayStation 5 Pro;Игровые приставки;100;59990;5999000']\n",
      "['5003;03.10.2022;Samsung Galaxy Watch 5;Умные часы;150;29990;4498500']\n",
      "['5004;04.11.2022;LG UltraFine;Мониторы;50;99990;4999500']\n",
      "['5005;05.12.2022;Canon EOS R8;Фотоаппараты;75;299990;22499250']\n",
      "['5006;06.10.2021;Bose SoundLink Revolve+;Портативные колонки;100;24990;2499000']\n",
      "['5007;07.09.2022;DJI Ronin 4D;Стабилизаторы;25;499990;12499750']\n",
      "['5008;08.07.2021;Samsung Galaxy Book Pro;Ноутбуки;50;129990;6499500']\n",
      "['5009;09.07.2022;Philips Sonicare DiamondClean;Электрические зубные щетки;200;9990;1998000']\n",
      "['5010;10.02.2001;Nest Learning Thermostat;Умный дом;100;19990;1999000']\n"
     ]
    }
   ],
   "source": [
    "with open('table.csv', encoding='UTF-8') as f:\n",
    "    reader = csv.reader(f)\n",
    "    for row in reader:\n",
    "        tablitsa.append(row)\n",
    "\n",
    "for i in range(len(tablitsa)):\n",
    "    print(tablitsa[i])"
   ]
  },
  {
   "cell_type": "code",
   "execution_count": 3,
   "metadata": {},
   "outputs": [
    {
     "name": "stdout",
     "output_type": "stream",
     "text": [
      "Товар: Apple iPhone 14, количество продаж: 500, бщая выручка: 44995000\n",
      "Товар: Samsung Galaxy S22 Ultra, количество продаж: 300, бщая выручка: 29997000\n",
      "Товар: Игровые приставки, количество продаж: 200, бщая выручка: 11998000\n",
      "Товар: LG OLED TV, количество продаж: 150, бщая выручка: 26998500\n",
      "Товар: Apple MacBook Pro 16, количество продаж: 100, бщая выручка: 19999000\n",
      "Товар: Canon EOS R7, количество продаж: 50, бщая выручка: 12499500\n",
      "Товар: Bose QuietComfort 55, количество продаж: 100, бщая выручка: 3499000\n",
      "Товар: Samsung Galaxy Tab S8, количество продаж: 75, бщая выручка: 5249250\n",
      "Товар: DJI Mavic 3, количество продаж: 25, бщая выручка: 3749750\n",
      "Товар: Philips Hue Smart Bulbs, количество продаж: 500, бщая выручка: 1495000\n",
      "Товар: Apple iPad Pro 12.9, количество продаж: 200, бщая выручка: 17998000\n",
      "Товар: Sony PlayStation 5 Pro, количество продаж: 100, бщая выручка: 5999000\n",
      "Товар: Samsung Galaxy Watch 5, количество продаж: 150, бщая выручка: 4498500\n",
      "Товар: LG UltraFine, количество продаж: 50, бщая выручка: 4999500\n",
      "Товар: Canon EOS R8, количество продаж: 75, бщая выручка: 22499250\n",
      "Товар: Bose SoundLink Revolve+, количество продаж: 100, бщая выручка: 2499000\n",
      "Товар: DJI Ronin 4D, количество продаж: 25, бщая выручка: 12499750\n",
      "Товар: Samsung Galaxy Book Pro, количество продаж: 50, бщая выручка: 6499500\n",
      "Товар: Philips Sonicare DiamondClean, количество продаж: 200, бщая выручка: 1998000\n",
      "Товар: Nest Learning Thermostat, количество продаж: 100, бщая выручка: 1999000\n",
      "Общая выручка: 241969500\n",
      "Лучший товар: Apple iPhone 14 (с количеством продаж 500)\n",
      "Лучший товар: Apple iPhone 14 (с общей выручкой 44995000)\n"
     ]
    }
   ],
   "source": [
    "# Проходим циклом по всем строкам массива, начиная со второй строки\n",
    "for row in tablitsa[1:]:\n",
    "    # Разбиваем строку на отдельные элементы\n",
    "    order_number, order_date, product_name, category, quantity, price, total_price = row[0].split(';')\n",
    "\n",
    "    # Извлекаем из строки необходимые данные\n",
    "    product_name = product_name.strip()\n",
    "    quantity = int(quantity)\n",
    "    price = int(price)\n",
    "\n",
    "    # Если товар уже есть в словаре продаж по товару, увеличиваем количество продаж и общую выручку\n",
    "    if product_name in sales_by_product:\n",
    "        sales_by_product[product_name][0] += quantity\n",
    "        sales_by_product[product_name][1] += quantity * price\n",
    "    # Если товара нет в словаре продаж по товару, создаем новую запись\n",
    "    else:\n",
    "        sales_by_product[product_name] = [quantity, quantity * price]\n",
    "\n",
    "# Выводим на экран таблицу продаж\n",
    "for product, sales_data in sales_by_product.items():\n",
    "    quantity_sold, total_revenue = sales_data\n",
    "    Total_revenue  += total_revenue\n",
    "    print(f\"Товар: {product}, количество продаж: {quantity_sold}, общая выручка: {total_revenue}\")\n",
    "    if quantity_sold > max_sales:\n",
    "        best_product_sold = product\n",
    "        max_sales = quantity_sold\n",
    "    if total_revenue > max_revenue:\n",
    "        best_product_revenue = product\n",
    "        max_revenue = total_revenue\n",
    "\n",
    "print(f\"Общая выручка:\", Total_revenue)\n",
    "print(f\"Лучший товар: {best_product_sold} (с количеством продаж {max_sales})\")\n",
    "print(f\"Лучший товар: {best_product_revenue} (с общей выручкой {max_revenue})\")"
   ]
  },
  {
   "cell_type": "code",
   "execution_count": 4,
   "metadata": {},
   "outputs": [
    {
     "name": "stdout",
     "output_type": "stream",
     "text": [
      "key: Apple iPhone 14 value: [500, 44995000]\n",
      "key: Samsung Galaxy S22 Ultra value: [300, 29997000]\n",
      "key: Игровые приставки value: [200, 11998000]\n",
      "key: LG OLED TV value: [150, 26998500]\n",
      "key: Apple MacBook Pro 16 value: [100, 19999000]\n",
      "key: Canon EOS R7 value: [50, 12499500]\n",
      "key: Bose QuietComfort 55 value: [100, 3499000]\n",
      "key: Samsung Galaxy Tab S8 value: [75, 5249250]\n",
      "key: DJI Mavic 3 value: [25, 3749750]\n",
      "key: Philips Hue Smart Bulbs value: [500, 1495000]\n",
      "key: Apple iPad Pro 12.9 value: [200, 17998000]\n",
      "key: Sony PlayStation 5 Pro value: [100, 5999000]\n",
      "key: Samsung Galaxy Watch 5 value: [150, 4498500]\n",
      "key: LG UltraFine value: [50, 4999500]\n",
      "key: Canon EOS R8 value: [75, 22499250]\n",
      "key: Bose SoundLink Revolve+ value: [100, 2499000]\n",
      "key: DJI Ronin 4D value: [25, 12499750]\n",
      "key: Samsung Galaxy Book Pro value: [50, 6499500]\n",
      "key: Philips Sonicare DiamondClean value: [200, 1998000]\n",
      "key: Nest Learning Thermostat value: [100, 1999000]\n"
     ]
    }
   ],
   "source": [
    "# Выводим хеш-таблицу\n",
    "for key, value in sales_by_product.items():\n",
    "    print(\"key:\", key, \"value:\", value)"
   ]
  },
  {
   "cell_type": "code",
   "execution_count": 5,
   "metadata": {},
   "outputs": [
    {
     "name": "stdout",
     "output_type": "stream",
     "text": [
      "                               Количество проданных единиц   Выручка  Доля в общей выручке\n",
      "Товар                                                                                     \n",
      "Apple iPhone 14                                        500  44995000              5.377698\n",
      "Samsung Galaxy S22 Ultra                               300  29997000              8.066457\n",
      "Игровые приставки                                      200  11998000             20.167486\n",
      "LG OLED TV                                             150  26998500              8.962331\n",
      "Apple MacBook Pro 16                                   100  19999000             12.099080\n",
      "Canon EOS R7                                            50  12499500             19.358334\n",
      "Bose QuietComfort 55                                   100   3499000             69.153901\n",
      "Samsung Galaxy Tab S8                                   75   5249250             46.096014\n",
      "DJI Mavic 3                                             25   3749750             64.529502\n",
      "Philips Hue Smart Bulbs                                500   1495000            161.852508\n",
      "Apple iPad Pro 12.9                                    200  17998000             13.444244\n",
      "Sony PlayStation 5 Pro                                 100   5999000             40.334972\n",
      "Samsung Galaxy Watch 5                                 150   4498500             53.788930\n",
      "LG UltraFine                                            50   4999500             48.398740\n",
      "Canon EOS R8                                            75  22499250             10.754558\n",
      "Bose SoundLink Revolve+                                100   2499000             96.826531\n",
      "DJI Ronin 4D                                            25  12499750             19.357947\n",
      "Samsung Galaxy Book Pro                                 50   6499500             37.228941\n",
      "Philips Sonicare DiamondClean                          200   1998000            121.105856\n",
      "Nest Learning Thermostat                               100   1999000            121.045273\n"
     ]
    }
   ],
   "source": [
    "for product, sales_data in sales_by_product.items():\n",
    "    quantity_sold, total_revenue = sales_data\n",
    "    products.append(product)\n",
    "    solds.append(quantity_sold)\n",
    "    revenues.append(total_revenue)\n",
    "    dolya.append(Total_revenue/total_revenue)\n",
    "\n",
    "\n",
    "\n",
    "\n",
    "\n",
    "# Создаем DataFrame из списков\n",
    "df = pd.DataFrame({\n",
    "    'Товар': products,\n",
    "    'Количество проданных единиц': solds,\n",
    "    'Выручка': revenues,\n",
    "    'Доля в общей выручке':  dolya\n",
    "})\n",
    "\n",
    "# Устанавливаем 'Товар' как индекс для удобства чтения таблицы\n",
    "df = df.set_index('Товар')\n",
    "pd.set_option('display.width', 1000)\n",
    "\n",
    "\n",
    "\n",
    "print(df)"
   ]
  },
  {
   "cell_type": "code",
   "execution_count": null,
   "metadata": {},
   "outputs": [],
   "source": []
  }
 ],
 "metadata": {
  "kernelspec": {
   "display_name": "Python 3",
   "language": "python",
   "name": "python3"
  },
  "language_info": {
   "codemirror_mode": {
    "name": "ipython",
    "version": 3
   },
   "file_extension": ".py",
   "mimetype": "text/x-python",
   "name": "python",
   "nbconvert_exporter": "python",
   "pygments_lexer": "ipython3",
   "version": "3.10.6"
  },
  "orig_nbformat": 4
 },
 "nbformat": 4,
 "nbformat_minor": 2
}
